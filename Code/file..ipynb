{
 "cells": [
  {
   "cell_type": "code",
   "execution_count": 1,
   "metadata": {},
   "outputs": [
    {
     "name": "stdout",
     "output_type": "stream",
     "text": [
      "Element-wise addition:\n",
      " [[ 2  8 12]\n",
      " [ 3 10 10]\n",
      " [ 8 10 12]]\n",
      "Element-wise subtraction:\n",
      " [[ 0  0  2]\n",
      " [ 1  0  6]\n",
      " [-2 -2 -2]]\n",
      "Matrix multiplication (dot product):\n",
      " [[40 66 62]\n",
      " [47 81 76]\n",
      " [32 62 58]]\n",
      "Matrix Division:\n",
      " [[1.         1.         1.4       ]\n",
      " [2.         1.         4.        ]\n",
      " [0.6        0.66666667 0.71428571]]\n",
      "Module of m1 to m2 is :\n",
      " [[0 0 2]\n",
      " [0 0 0]\n",
      " [3 4 5]]\n",
      "Element-wise multiplication:\n",
      " [[ 1 16 35]\n",
      " [ 2 25 16]\n",
      " [15 24 35]]\n"
     ]
    }
   ],
   "source": [
    "import numpy as np\n",
    "\n",
    "m1 = np.array([[1,4,7],[2,5,8],[3,4,5]])\n",
    "m2 = np.array([[1,4,5],[1,5,2],[5,6,7]])\n",
    "\n",
    "addition = np.add(m1, m2)\n",
    "print(\"Element-wise addition:\\n\", addition)\n",
    "\n",
    "subtraction = np.subtract(m1, m2)\n",
    "print(\"Element-wise subtraction:\\n\", subtraction)\n",
    "\n",
    "result_dot = np.dot(m1,m2)\n",
    "print(\"Matrix multiplication (dot product):\\n\",result_dot)\n",
    "\n",
    "result_divide = np.divide(m1,m2)\n",
    "print(\"Matrix Division:\\n\",result_divide)\n",
    "\n",
    "result_mod = np.mod(m1,m2)\n",
    "print(\"Module of m1 to m2 is :\\n\",result_mod)\n",
    "\n",
    "result_mul = np.multiply(m1, m2)\n",
    "print( \"Element-wise multiplication:\\n\",result_mul)"
   ]
  }
 ],
 "metadata": {
  "kernelspec": {
   "display_name": "Python 3",
   "language": "python",
   "name": "python3"
  },
  "language_info": {
   "codemirror_mode": {
    "name": "ipython",
    "version": 3
   },
   "file_extension": ".py",
   "mimetype": "text/x-python",
   "name": "python",
   "nbconvert_exporter": "python",
   "pygments_lexer": "ipython3",
   "version": "3.12.1"
  }
 },
 "nbformat": 4,
 "nbformat_minor": 2
}
