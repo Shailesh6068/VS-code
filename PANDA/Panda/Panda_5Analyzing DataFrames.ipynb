{
 "cells": [
  {
   "cell_type": "code",
   "execution_count": 2,
   "metadata": {},
   "outputs": [
    {
     "name": "stdout",
     "output_type": "stream",
     "text": [
      "    ID         Area       City         Restaurant  Price  Avg ratings  \\\n",
      "0  211  Koramangala  Bangalore        Tandoor Hut  300.0          4.4   \n",
      "1  221  Koramangala  Bangalore      Tunday Kababi  300.0          4.1   \n",
      "2  246    Jogupalya  Bangalore            Kim Lee  650.0          4.4   \n",
      "3  248  Indiranagar  Bangalore  New Punjabi Hotel  250.0          3.9   \n",
      "4  249  Indiranagar  Bangalore                Nh8  350.0          4.0   \n",
      "\n",
      "   Total ratings                                          Food type  \\\n",
      "0            100          Biryani,Chinese,North Indian,South Indian   \n",
      "1            100                                   Mughlai,Lucknowi   \n",
      "2            100                                            Chinese   \n",
      "3            500               North Indian,Punjabi,Tandoor,Chinese   \n",
      "4             50  Rajasthani,Gujarati,North Indian,Snacks,Desser...   \n",
      "\n",
      "        Address  Delivery time  \n",
      "0     5Th Block             59  \n",
      "1     5Th Block             56  \n",
      "2   Double Road             50  \n",
      "3  80 Feet Road             57  \n",
      "4  80 Feet Road             63  \n"
     ]
    }
   ],
   "source": [
    "#print first 5 rows\n",
    "import pandas as pd\n",
    "df = pd.read_csv(r\"C:\\Users\\Shailesh\\OneDrive\\Desktop\\coding\\Python\\swiggy.csv\")\n",
    "print(df.head())"
   ]
  },
  {
   "cell_type": "code",
   "execution_count": 4,
   "metadata": {},
   "outputs": [
    {
     "name": "stdout",
     "output_type": "stream",
     "text": [
      "    ID         Area       City                                    Restaurant  \\\n",
      "0  211  Koramangala  Bangalore                                   Tandoor Hut   \n",
      "1  221  Koramangala  Bangalore                                 Tunday Kababi   \n",
      "2  246    Jogupalya  Bangalore                                       Kim Lee   \n",
      "3  248  Indiranagar  Bangalore                             New Punjabi Hotel   \n",
      "4  249  Indiranagar  Bangalore                                           Nh8   \n",
      "5  254  Indiranagar  Bangalore                                         Treat   \n",
      "6  258  Indiranagar  Bangalore                     Chinita Real Mexican Food   \n",
      "7  263  Koramangala  Bangalore  Cupcake Noggins - Cakespastries And Desserts   \n",
      "8  267       Domlur  Bangalore                                      Tea Brew   \n",
      "9  308  Koramangala  Bangalore                                    Bangaliana   \n",
      "\n",
      "    Price  Avg ratings  Total ratings  \\\n",
      "0   300.0          4.4            100   \n",
      "1   300.0          4.1            100   \n",
      "2   650.0          4.4            100   \n",
      "3   250.0          3.9            500   \n",
      "4   350.0          4.0             50   \n",
      "5   800.0          4.5            100   \n",
      "6  1000.0          4.5            500   \n",
      "7   150.0          4.3            100   \n",
      "8   350.0          4.1            100   \n",
      "9   300.0          4.0            500   \n",
      "\n",
      "                                           Food type        Address  \\\n",
      "0          Biryani,Chinese,North Indian,South Indian      5Th Block   \n",
      "1                                   Mughlai,Lucknowi      5Th Block   \n",
      "2                                            Chinese    Double Road   \n",
      "3               North Indian,Punjabi,Tandoor,Chinese   80 Feet Road   \n",
      "4  Rajasthani,Gujarati,North Indian,Snacks,Desser...   80 Feet Road   \n",
      "5                               Mughlai,North Indian  100 Feet Road   \n",
      "6                           Mexican,Beverages,Salads    Double Road   \n",
      "7              Desserts,British,Bakery,Pizzas,Snacks      4Th Block   \n",
      "8  American,Italian,Beverages,Continental,Chinese...    Double Road   \n",
      "9                                            Bengali      7Th Block   \n",
      "\n",
      "   Delivery time  \n",
      "0             59  \n",
      "1             56  \n",
      "2             50  \n",
      "3             57  \n",
      "4             63  \n",
      "5             56  \n",
      "6             53  \n",
      "7             57  \n",
      "8             57  \n",
      "9             57  \n"
     ]
    }
   ],
   "source": [
    "#print first 5 rows\n",
    "import pandas as pd\n",
    "df = pd.read_csv(r\"C:\\Users\\Shailesh\\OneDrive\\Desktop\\coding\\Python\\swiggy.csv\")\n",
    "print(df.head(10))"
   ]
  },
  {
   "cell_type": "code",
   "execution_count": 5,
   "metadata": {},
   "outputs": [
    {
     "name": "stdout",
     "output_type": "stream",
     "text": [
      "          ID                    Area       City  \\\n",
      "8670  463051                  Rohini      Delhi   \n",
      "8671  464112          Himayath Nagar  Hyderabad   \n",
      "8672  464194      Ghatkopar Vikhroli     Mumbai   \n",
      "8673  464354           Prahlad Nagar  Ahmedabad   \n",
      "8674  464401                   Athwa      Surat   \n",
      "8675  464626  Panjarapole Cross Road  Ahmedabad   \n",
      "8676  465835                  Rohini      Delhi   \n",
      "8677  465872                  Rohini      Delhi   \n",
      "8678  465990                  Rohini      Delhi   \n",
      "8679  466488             Navrangpura  Ahmedabad   \n",
      "\n",
      "                                           Restaurant  Price  Avg ratings  \\\n",
      "8670                                 Zaika The Bakers  400.0          2.9   \n",
      "8671                                   Bake And Beans  400.0          2.9   \n",
      "8672                                     Tj'S Kitchen  300.0          2.9   \n",
      "8673                                Reyansh'S Kitchen  500.0          2.9   \n",
      "8674  Panditjis Dilliwale Chhole Bhature & Dilli Chat  250.0          2.9   \n",
      "8675                                       Malt Pizza  500.0          2.9   \n",
      "8676                         Jay Mata Ji Home Kitchen  200.0          2.9   \n",
      "8677                             Chinese Kitchen King  150.0          2.9   \n",
      "8678                           Shree Ram Paratha Wala  150.0          2.9   \n",
      "8679                                     Sassy Street  250.0          2.9   \n",
      "\n",
      "      Total ratings                                Food type  \\\n",
      "8670             80                                   Pizzas   \n",
      "8671             80  Snacks,American,Pizzas,Pastas,Beverages   \n",
      "8672             80              South Indian,Chinese,Snacks   \n",
      "8673             80                                 Desserts   \n",
      "8674             80                North Indian,Chaat,Snacks   \n",
      "8675             80                                   Pizzas   \n",
      "8676             80                             South Indian   \n",
      "8677             80                   Chinese,Snacks,Tandoor   \n",
      "8678             80               North Indian,Indian,Snacks   \n",
      "8679             80                     Chaat,Snacks,Chinese   \n",
      "\n",
      "                 Address  Delivery time  \n",
      "8670              Rohini             38  \n",
      "8671      Himayath Nagar             36  \n",
      "8672  Ghatkopar Vikhroli             48  \n",
      "8673       Prahlad Nagar             50  \n",
      "8674               Athwa             44  \n",
      "8675         Navrangpura             40  \n",
      "8676              Rohini             28  \n",
      "8677              Rohini             58  \n",
      "8678              Rohini             28  \n",
      "8679         Navrangpura             44  \n"
     ]
    }
   ],
   "source": [
    "#print first 5 rows\n",
    "import pandas as pd\n",
    "df = pd.read_csv(r\"C:\\Users\\Shailesh\\OneDrive\\Desktop\\coding\\Python\\swiggy.csv\")\n",
    "print(df.tail(10))"
   ]
  },
  {
   "cell_type": "code",
   "execution_count": 6,
   "metadata": {},
   "outputs": [
    {
     "name": "stdout",
     "output_type": "stream",
     "text": [
      "          ID                    Area       City                Restaurant  \\\n",
      "8675  464626  Panjarapole Cross Road  Ahmedabad                Malt Pizza   \n",
      "8676  465835                  Rohini      Delhi  Jay Mata Ji Home Kitchen   \n",
      "8677  465872                  Rohini      Delhi      Chinese Kitchen King   \n",
      "8678  465990                  Rohini      Delhi    Shree Ram Paratha Wala   \n",
      "8679  466488             Navrangpura  Ahmedabad              Sassy Street   \n",
      "\n",
      "      Price  Avg ratings  Total ratings                   Food type  \\\n",
      "8675  500.0          2.9             80                      Pizzas   \n",
      "8676  200.0          2.9             80                South Indian   \n",
      "8677  150.0          2.9             80      Chinese,Snacks,Tandoor   \n",
      "8678  150.0          2.9             80  North Indian,Indian,Snacks   \n",
      "8679  250.0          2.9             80        Chaat,Snacks,Chinese   \n",
      "\n",
      "          Address  Delivery time  \n",
      "8675  Navrangpura             40  \n",
      "8676       Rohini             28  \n",
      "8677       Rohini             58  \n",
      "8678       Rohini             28  \n",
      "8679  Navrangpura             44  \n"
     ]
    }
   ],
   "source": [
    "#print first 5 rows\n",
    "import pandas as pd\n",
    "df = pd.read_csv(r\"C:\\Users\\Shailesh\\OneDrive\\Desktop\\coding\\Python\\swiggy.csv\")\n",
    "print(df.tail())"
   ]
  },
  {
   "cell_type": "code",
   "execution_count": 7,
   "metadata": {},
   "outputs": [
    {
     "name": "stdout",
     "output_type": "stream",
     "text": [
      "<class 'pandas.core.frame.DataFrame'>\n",
      "RangeIndex: 8680 entries, 0 to 8679\n",
      "Data columns (total 10 columns):\n",
      " #   Column         Non-Null Count  Dtype  \n",
      "---  ------         --------------  -----  \n",
      " 0   ID             8680 non-null   int64  \n",
      " 1   Area           8680 non-null   object \n",
      " 2   City           8680 non-null   object \n",
      " 3   Restaurant     8680 non-null   object \n",
      " 4   Price          8680 non-null   float64\n",
      " 5   Avg ratings    8680 non-null   float64\n",
      " 6   Total ratings  8680 non-null   int64  \n",
      " 7   Food type      8680 non-null   object \n",
      " 8   Address        8680 non-null   object \n",
      " 9   Delivery time  8680 non-null   int64  \n",
      "dtypes: float64(2), int64(3), object(5)\n",
      "memory usage: 678.3+ KB\n",
      "None\n"
     ]
    }
   ],
   "source": [
    "import pandas as pd\n",
    "df = pd.read_csv(r\"C:\\Users\\Shailesh\\OneDrive\\Desktop\\coding\\Python\\swiggy.csv\")\n",
    "print(df.info())"
   ]
  }
 ],
 "metadata": {
  "kernelspec": {
   "display_name": "Python 3",
   "language": "python",
   "name": "python3"
  },
  "language_info": {
   "codemirror_mode": {
    "name": "ipython",
    "version": 3
   },
   "file_extension": ".py",
   "mimetype": "text/x-python",
   "name": "python",
   "nbconvert_exporter": "python",
   "pygments_lexer": "ipython3",
   "version": "3.12.1"
  }
 },
 "nbformat": 4,
 "nbformat_minor": 2
}
