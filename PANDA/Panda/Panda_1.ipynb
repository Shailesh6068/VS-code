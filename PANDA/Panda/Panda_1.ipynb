{
 "cells": [
  {
   "cell_type": "code",
   "execution_count": 6,
   "metadata": {},
   "outputs": [
    {
     "name": "stdout",
     "output_type": "stream",
     "text": [
      "    cars  passings\n",
      "0    BMW         3\n",
      "1  Volvo         7\n",
      "2   Ford         2\n"
     ]
    }
   ],
   "source": [
    "import pandas\n",
    "mydataset = {\n",
    "  'cars': [\"BMW\", \"Volvo\", \"Ford\"],\n",
    "  'passings': [3, 7, 2]\n",
    "}\n",
    "df = pandas.DataFrame(mydataset)\n",
    "print(df)"
   ]
  },
  {
   "cell_type": "code",
   "execution_count": 7,
   "metadata": {},
   "outputs": [
    {
     "name": "stdout",
     "output_type": "stream",
     "text": [
      "    Cars  Price\n",
      "0  Swift     12\n",
      "1   Alto     32\n",
      "2   Nano     11\n"
     ]
    }
   ],
   "source": [
    "import pandas as pd\n",
    "mydataset = {\n",
    "    \"Cars\" : [\"Swift\",\"Alto\",\"Nano\"],\n",
    "    \"Price\": [12,32,11]\n",
    "}\n",
    "df = pd.DataFrame(mydataset)\n",
    "print(df)"
   ]
  },
  {
   "cell_type": "code",
   "execution_count": 8,
   "metadata": {},
   "outputs": [
    {
     "name": "stdout",
     "output_type": "stream",
     "text": [
      "2.2.2\n"
     ]
    }
   ],
   "source": [
    "#Check Version\n",
    "import pandas as pd\n",
    "print(pd.__version__)"
   ]
  },
  {
   "cell_type": "code",
   "execution_count": 11,
   "metadata": {},
   "outputs": [
    {
     "name": "stdout",
     "output_type": "stream",
     "text": [
      "Series([], dtype: object)\n",
      "0     Aman\n",
      "1     Ajay\n",
      "2    Akash\n",
      "dtype: object\n",
      "1     Aman\n",
      "2     Ajay\n",
      "3    Akash\n",
      "dtype: object\n",
      "1    34\n",
      "2    56\n",
      "3    78\n",
      "dtype: int64\n"
     ]
    }
   ],
   "source": [
    "import pandas as pd\n",
    "mydataset = {\n",
    "    \"Name\":[\"Aman\",\"Ajay\",\"Akash\"],\n",
    "    \"Age\":[34,56,78]\n",
    "    }\n",
    "df = pd.Series()\n",
    "print(df)\n",
    "df = pd.Series(mydataset['Name'])\n",
    "print(df)\n",
    "myvar1 = pd.Series(mydataset['Name'],index= [1,2,3])\n",
    "print(myvar1)\n",
    "myvar2 = pd.Series(mydataset['Age'],index= [1,2,3])\n",
    "print(myvar2)"
   ]
  },
  {
   "cell_type": "code",
   "execution_count": 16,
   "metadata": {},
   "outputs": [
    {
     "name": "stdout",
     "output_type": "stream",
     "text": [
      "   index      0\n",
      "0      1   Aman\n",
      "1      2   Ajay\n",
      "2      3  Akash\n"
     ]
    }
   ],
   "source": [
    "series_df = myvar1.reset_index()\n",
    "print(series_df)"
   ]
  },
  {
   "cell_type": "code",
   "execution_count": 15,
   "metadata": {},
   "outputs": [
    {
     "name": "stdout",
     "output_type": "stream",
     "text": [
      "   Index   Name\n",
      "0      1   Aman\n",
      "1      2   Ajay\n",
      "2      3  Akash\n"
     ]
    }
   ],
   "source": [
    "series_df.columns = [\"Index\" , \"Name\"]\n",
    "print(series_df)"
   ]
  },
  {
   "cell_type": "code",
   "execution_count": 23,
   "metadata": {},
   "outputs": [
    {
     "name": "stdout",
     "output_type": "stream",
     "text": [
      "   index      0\n",
      "0      1   Aman\n",
      "1      2   Ajay\n",
      "2      3  Akash\n"
     ]
    }
   ],
   "source": [
    "# to_csv फंक्शनचा उपयोग करून डेटा फ्रेमचे डेटा CSV फाईलमध्ये काढला जातो.\n",
    "# r\"C:\\Users\\Shailesh\\OneDrive\\Desktop\\coding\\Python\\swiggy.csv\" ह्या पथामध्ये फाईल सेव्ह केली जाते.\n",
    "# index=False म्हणजे तुम्ही डेटा फ्रेमचा निर्देशांक CSV फाईलमध्ये समाविष्ट करणार नाही.\n",
    "\n",
    "series_df.to_csv(r\"C:\\Users\\Shailesh\\OneDrive\\Desktop\\coding\\Python\\swiggy1.csv\" , index = False)\n",
    "print(series_df)"
   ]
  },
  {
   "cell_type": "code",
   "execution_count": 24,
   "metadata": {},
   "outputs": [
    {
     "name": "stdout",
     "output_type": "stream",
     "text": [
      "   index      0\n",
      "0      1   Aman\n",
      "1      2   Ajay\n",
      "2      3  Akash\n"
     ]
    }
   ],
   "source": [
    "series_df.to_csv(r\"C:\\Users\\Shailesh\\OneDrive\\Desktop\\coding\\Python\\swiggy2.csv\",index = True)\n",
    "print(series_df)"
   ]
  },
  {
   "cell_type": "code",
   "execution_count": 25,
   "metadata": {},
   "outputs": [
    {
     "name": "stdout",
     "output_type": "stream",
     "text": [
      "   index      0\n",
      "0      1   Aman\n",
      "1      2   Ajay\n",
      "2      3  Akash\n"
     ]
    }
   ],
   "source": [
    "# r\"C:\\Users\\Shailesh\\OneDrive\\Desktop\\coding\\Python\\brazil_geo.json\" ह्या पथामध्ये फाईल सेव्ह केली जाते.\n",
    "# orient=\"records\" ह्या पर्यायामुळे डेटा प्रत्येक रेकॉर्डच्या स्वरूपात साठवला जातो. म्हणजे, प्रत्येक रेकॉर्ड एक स्वतंत्र JSON ऑब्जेक्ट म्हणून असतो.\n",
    "# lines=True ह्या सेटिंगमुळे, प्रत्येक JSON रेकॉर्ड नवीन ओळीत साठवला जातो. म्हणजे, फाईलमध्ये प्रत्येक रेकॉर्ड एक ओळ असेल, जेणेकरून फाईल अधिक वाचनीय आणि प्रक्रिया करण्यास सुलभ असेल.\n",
    "series_df.to_json(r\"C:\\Users\\Shailesh\\OneDrive\\Desktop\\coding\\Python\\brazil_geo.json\",orient = \"records\" ,lines= True )\n",
    "print(series_df)"
   ]
  }
 ],
 "metadata": {
  "kernelspec": {
   "display_name": "Python 3",
   "language": "python",
   "name": "python3"
  },
  "language_info": {
   "codemirror_mode": {
    "name": "ipython",
    "version": 3
   },
   "file_extension": ".py",
   "mimetype": "text/x-python",
   "name": "python",
   "nbconvert_exporter": "python",
   "pygments_lexer": "ipython3",
   "version": "3.12.1"
  }
 },
 "nbformat": 4,
 "nbformat_minor": 2
}
