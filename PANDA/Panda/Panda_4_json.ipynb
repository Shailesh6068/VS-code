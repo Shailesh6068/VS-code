{
 "cells": [
  {
   "cell_type": "code",
   "execution_count": 10,
   "metadata": {},
   "outputs": [
    {
     "name": "stdout",
     "output_type": "stream",
     "text": [
      "{'name': 'John', 'age': 25, 'city': 'Sampleville', 'married': False, 'hobbies': ['reading', 'traveling', 'programming'], 'address': {'street': '123 Main Street', 'city': 'Sample City', 'postal_code': '12345'}}\n"
     ]
    }
   ],
   "source": [
    "import json\n",
    "\n",
    "with open(r\"C:\\Users\\Shailesh\\OneDrive\\Desktop\\coding\\Python\\sample1.json\", 'r') as file:\n",
    "    data = json.load(file)\n",
    "    print(data)\n",
    "\n"
   ]
  },
  {
   "cell_type": "code",
   "execution_count": 20,
   "metadata": {},
   "outputs": [
    {
     "name": "stdout",
     "output_type": "stream",
     "text": [
      "<bound method DataFrame.to_string of                  type                                           features\n",
      "0   FeatureCollection  {'type': 'Feature', 'id': 'AC', 'properties': ...\n",
      "1   FeatureCollection  {'type': 'Feature', 'id': 'AL', 'properties': ...\n",
      "2   FeatureCollection  {'type': 'Feature', 'id': 'AP', 'properties': ...\n",
      "3   FeatureCollection  {'type': 'Feature', 'id': 'AM', 'properties': ...\n",
      "4   FeatureCollection  {'type': 'Feature', 'id': 'BA', 'properties': ...\n",
      "5   FeatureCollection  {'type': 'Feature', 'id': 'CE', 'properties': ...\n",
      "6   FeatureCollection  {'type': 'Feature', 'id': 'DF', 'properties': ...\n",
      "7   FeatureCollection  {'type': 'Feature', 'id': 'ES', 'properties': ...\n",
      "8   FeatureCollection  {'type': 'Feature', 'id': 'GO', 'properties': ...\n",
      "9   FeatureCollection  {'type': 'Feature', 'id': 'MA', 'properties': ...\n",
      "10  FeatureCollection  {'type': 'Feature', 'id': 'MT', 'properties': ...\n",
      "11  FeatureCollection  {'type': 'Feature', 'id': 'MS', 'properties': ...\n",
      "12  FeatureCollection  {'type': 'Feature', 'id': 'MG', 'properties': ...\n",
      "13  FeatureCollection  {'type': 'Feature', 'id': 'PA', 'properties': ...\n",
      "14  FeatureCollection  {'type': 'Feature', 'id': 'PB', 'properties': ...\n",
      "15  FeatureCollection  {'type': 'Feature', 'id': 'PR', 'properties': ...\n",
      "16  FeatureCollection  {'type': 'Feature', 'id': 'PE', 'properties': ...\n",
      "17  FeatureCollection  {'type': 'Feature', 'id': 'PI', 'properties': ...\n",
      "18  FeatureCollection  {'type': 'Feature', 'id': 'RJ', 'properties': ...\n",
      "19  FeatureCollection  {'type': 'Feature', 'id': 'RN', 'properties': ...\n",
      "20  FeatureCollection  {'type': 'Feature', 'id': 'RS', 'properties': ...\n",
      "21  FeatureCollection  {'type': 'Feature', 'id': 'RO', 'properties': ...\n",
      "22  FeatureCollection  {'type': 'Feature', 'id': 'RR', 'properties': ...\n",
      "23  FeatureCollection  {'type': 'Feature', 'id': 'SC', 'properties': ...\n",
      "24  FeatureCollection  {'type': 'Feature', 'id': 'SP', 'properties': ...\n",
      "25  FeatureCollection  {'type': 'Feature', 'id': 'SE', 'properties': ...\n",
      "26  FeatureCollection  {'type': 'Feature', 'id': 'TO', 'properties': ...>\n"
     ]
    }
   ],
   "source": [
    "import pandas as pd\n",
    "\n",
    "df = pd.read_json(r\"C:\\Users\\Shailesh\\OneDrive\\Desktop\\coding\\Python\\brazil_geo.json\")\n",
    "\n",
    "print(df.to_string)"
   ]
  }
 ],
 "metadata": {
  "kernelspec": {
   "display_name": "Python 3",
   "language": "python",
   "name": "python3"
  },
  "language_info": {
   "codemirror_mode": {
    "name": "ipython",
    "version": 3
   },
   "file_extension": ".py",
   "mimetype": "text/x-python",
   "name": "python",
   "nbconvert_exporter": "python",
   "pygments_lexer": "ipython3",
   "version": "3.12.1"
  }
 },
 "nbformat": 4,
 "nbformat_minor": 2
}
